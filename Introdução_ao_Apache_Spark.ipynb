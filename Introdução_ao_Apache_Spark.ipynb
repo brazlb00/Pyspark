{
  "nbformat": 4,
  "nbformat_minor": 0,
  "metadata": {
    "colab": {
      "name": "Introdução ao Apache Spark.ipynb",
      "provenance": [],
      "collapsed_sections": [],
      "include_colab_link": true
    },
    "kernelspec": {
      "name": "python3",
      "display_name": "Python 3"
    },
    "language_info": {
      "name": "python"
    }
  },
  "cells": [
    {
      "cell_type": "markdown",
      "metadata": {
        "id": "view-in-github",
        "colab_type": "text"
      },
      "source": [
        "<a href=\"https://colab.research.google.com/github/brazlb00/ProjetoGit/blob/main/Introdu%C3%A7%C3%A3o_ao_Apache_Spark.ipynb\" target=\"_parent\"><img src=\"https://colab.research.google.com/assets/colab-badge.svg\" alt=\"Open In Colab\"/></a>"
      ]
    },
    {
      "cell_type": "markdown",
      "source": [
        "Instalação do Spark"
      ],
      "metadata": {
        "id": "SfWdSRK8O-6X"
      }
    },
    {
      "cell_type": "code",
      "source": [
        "!pip install -q findspark"
      ],
      "metadata": {
        "id": "ApcyZzwfPHTn"
      },
      "execution_count": 1,
      "outputs": []
    },
    {
      "cell_type": "code",
      "source": [
        "!pip install -q pyspark"
      ],
      "metadata": {
        "colab": {
          "base_uri": "https://localhost:8080/"
        },
        "id": "X6_LisKnPYK3",
        "outputId": "d6ea9829-0523-4be9-c02d-12bb6b4a398d"
      },
      "execution_count": 2,
      "outputs": [
        {
          "output_type": "stream",
          "name": "stdout",
          "text": [
            "\u001b[K     |████████████████████████████████| 281.3 MB 45 kB/s \n",
            "\u001b[K     |████████████████████████████████| 199 kB 54.9 MB/s \n",
            "\u001b[?25h  Building wheel for pyspark (setup.py) ... \u001b[?25l\u001b[?25hdone\n"
          ]
        }
      ]
    },
    {
      "cell_type": "markdown",
      "source": [
        "\n",
        "Iniciar Spark\n"
      ],
      "metadata": {
        "id": "JO_3DZggP1Le"
      }
    },
    {
      "cell_type": "code",
      "source": [
        "import findspark\n",
        "findspark.init()"
      ],
      "metadata": {
        "id": "bxwRRaySP19_"
      },
      "execution_count": 3,
      "outputs": []
    },
    {
      "cell_type": "markdown",
      "source": [
        "\n",
        "Instanciar o SparkContext"
      ],
      "metadata": {
        "id": "_olpEK6SQCR2"
      }
    },
    {
      "cell_type": "code",
      "source": [
        "from pyspark import SparkContext\n",
        "spark_contexto = SparkContext() # Instantiate SparkContext"
      ],
      "metadata": {
        "id": "msFt7sWpQDf-"
      },
      "execution_count": 4,
      "outputs": []
    },
    {
      "cell_type": "markdown",
      "source": [
        "Verificar o SparkContext"
      ],
      "metadata": {
        "id": "JseKK7T1QHmO"
      }
    },
    {
      "cell_type": "code",
      "source": [
        "print(spark_contexto)"
      ],
      "metadata": {
        "colab": {
          "base_uri": "https://localhost:8080/"
        },
        "id": "ar66aC_vQJFW",
        "outputId": "c12ae1a4-45ab-4b01-b6ee-1ce609dfc6c4"
      },
      "execution_count": 5,
      "outputs": [
        {
          "output_type": "stream",
          "name": "stdout",
          "text": [
            "<SparkContext master=local[*] appName=pyspark-shell>\n"
          ]
        }
      ]
    },
    {
      "cell_type": "markdown",
      "source": [
        "Versão do Spark"
      ],
      "metadata": {
        "id": "ZvEO3DbWQgyn"
      }
    },
    {
      "cell_type": "code",
      "source": [
        "print(spark_contexto.version)"
      ],
      "metadata": {
        "colab": {
          "base_uri": "https://localhost:8080/"
        },
        "id": "fLmGV81zQiOA",
        "outputId": "ed917cab-99dd-450d-a51a-1d9c36e2b26f"
      },
      "execution_count": 6,
      "outputs": [
        {
          "output_type": "stream",
          "name": "stdout",
          "text": [
            "3.3.0\n"
          ]
        }
      ]
    },
    {
      "cell_type": "markdown",
      "source": [
        "Criar uma instância do Spark, e importação de tipos"
      ],
      "metadata": {
        "id": "wV4wPvfUQtVm"
      }
    },
    {
      "cell_type": "code",
      "source": [
        "import pyspark.sql.types as t\n",
        "from pyspark.sql import SparkSession\n",
        "spark  = SparkSession.builder.master(\"local[*]\").getOrCreate()"
      ],
      "metadata": {
        "id": "CO8LdjH_QvHJ"
      },
      "execution_count": 27,
      "outputs": []
    },
    {
      "cell_type": "markdown",
      "source": [
        "Imprimir Instância do Spark"
      ],
      "metadata": {
        "id": "LLzMxK40Q97H"
      }
    },
    {
      "cell_type": "code",
      "source": [
        "print(spark)"
      ],
      "metadata": {
        "colab": {
          "base_uri": "https://localhost:8080/"
        },
        "id": "dqDuVHLhQ_fA",
        "outputId": "810bf867-6940-49d8-a89b-9d0d3b886c68"
      },
      "execution_count": 8,
      "outputs": [
        {
          "output_type": "stream",
          "name": "stdout",
          "text": [
            "<pyspark.sql.session.SparkSession object at 0x7f7391c23f90>\n"
          ]
        }
      ]
    },
    {
      "cell_type": "markdown",
      "source": [
        "Definição dos caminhos usados"
      ],
      "metadata": {
        "id": "M3atN9MqRHYe"
      }
    },
    {
      "cell_type": "code",
      "source": [
        "input_path_csv = ('/content/drive/MyDrive/cruise_dataset.csv')\n",
        "output_base = '/content/drive/MyDrive/trusted/'\n"
      ],
      "metadata": {
        "id": "-nqGnb1KRLK4"
      },
      "execution_count": 33,
      "outputs": []
    },
    {
      "cell_type": "markdown",
      "source": [
        "Definição do Esquema"
      ],
      "metadata": {
        "id": "2ZT6f-ajTQtP"
      }
    },
    {
      "cell_type": "code",
      "source": [
        "schema_csv = t.StructType([\n",
        "    t.StructField(\"Ship_name\", t.StringType()),\n",
        "    t.StructField(\"Cruise_line\", t.StringType()),\n",
        "    t.StructField(\"Age\", t.IntegerType()),\n",
        "    t.StructField(\"Tonnage\", t.FloatType()),\n",
        "    t.StructField(\"Passengers\", t.FloatType()),\n",
        "    t.StructField(\"Length\", t.FloatType()),\n",
        "    t.StructField(\"Cabins\", t.FloatType()),\n",
        "    t.StructField(\"Passenger_density\", t.FloatType()),\n",
        "    t.StructField(\"Crew\", t.FloatType())\n",
        "    ])"
      ],
      "metadata": {
        "id": "TPpeAUNMTTN2"
      },
      "execution_count": 28,
      "outputs": []
    },
    {
      "cell_type": "markdown",
      "source": [
        "Criação do Dataset"
      ],
      "metadata": {
        "id": "uyCoBRfKaWmP"
      }
    },
    {
      "cell_type": "code",
      "source": [
        "dataset = spark.read\\\n",
        "  .schema(schema_csv)\\\n",
        "  .option('multiLine', 'true')\\ #Lê o CSV memso comvalores espalhados por várias linhas\n",
        "  .option('escape', '\\\"')\\  #Utilizando aspas duplas como caractere de escape\n",
        "  .option('delimiter', ',')\\\n",
        "  .option('header', 'true')\\\n",
        "  .csv(input_path_csv)"
      ],
      "metadata": {
        "id": "gWbYmFAsaY7r"
      },
      "execution_count": 34,
      "outputs": []
    },
    {
      "cell_type": "markdown",
      "source": [
        "Imprimir o Esquema"
      ],
      "metadata": {
        "id": "_y1GYq2SfD2F"
      }
    },
    {
      "cell_type": "code",
      "source": [
        "dataset.printSchema()"
      ],
      "metadata": {
        "colab": {
          "base_uri": "https://localhost:8080/"
        },
        "id": "B9pXGb-9fHMP",
        "outputId": "a8444d03-ee94-4cca-8cae-373eabe3f6e1"
      },
      "execution_count": 36,
      "outputs": [
        {
          "output_type": "stream",
          "name": "stdout",
          "text": [
            "root\n",
            " |-- Ship_name: string (nullable = true)\n",
            " |-- Cruise_line: string (nullable = true)\n",
            " |-- Age: integer (nullable = true)\n",
            " |-- Tonnage: float (nullable = true)\n",
            " |-- Passengers: float (nullable = true)\n",
            " |-- Length: float (nullable = true)\n",
            " |-- Cabins: float (nullable = true)\n",
            " |-- Passenger_density: float (nullable = true)\n",
            " |-- Crew: float (nullable = true)\n",
            "\n"
          ]
        }
      ]
    },
    {
      "cell_type": "markdown",
      "source": [
        "Visualizar um subconjunto dos Dados"
      ],
      "metadata": {
        "id": "c3XlA1wnVBNQ"
      }
    },
    {
      "cell_type": "code",
      "source": [
        "dataset.show(3)"
      ],
      "metadata": {
        "colab": {
          "base_uri": "https://localhost:8080/"
        },
        "id": "1EzFBHcWVDQf",
        "outputId": "8d345971-f31e-4c27-a739-3c864b677748"
      },
      "execution_count": 35,
      "outputs": [
        {
          "output_type": "stream",
          "name": "stdout",
          "text": [
            "+-----------+-----------+---+-------+----------+------+------+-----------------+----+\n",
            "|  Ship_name|Cruise_line|Age|Tonnage|Passengers|Length|Cabins|Passenger_density|Crew|\n",
            "+-----------+-----------+---+-------+----------+------+------+-----------------+----+\n",
            "|    Journey|    Azamara|  6| 30.277|      6.94|  5.94|  3.55|            42.64|3.55|\n",
            "|      Quest|    Azamara|  6| 30.277|      6.94|  5.94|  3.55|            42.64|3.55|\n",
            "|Celebration|   Carnival| 26| 47.262|     14.86|  7.22|  7.43|             31.8| 6.7|\n",
            "+-----------+-----------+---+-------+----------+------+------+-----------------+----+\n",
            "only showing top 3 rows\n",
            "\n"
          ]
        }
      ]
    },
    {
      "cell_type": "code",
      "source": [
        "dataset.head()"
      ],
      "metadata": {
        "colab": {
          "base_uri": "https://localhost:8080/"
        },
        "id": "Zy5_h-bnVcxW",
        "outputId": "67717588-cfc9-4973-9206-c09dbfdcff75"
      },
      "execution_count": 37,
      "outputs": [
        {
          "output_type": "execute_result",
          "data": {
            "text/plain": [
              "Row(Ship_name='Journey', Cruise_line='Azamara', Age=6, Tonnage=30.277000427246094, Passengers=6.940000057220459, Length=5.940000057220459, Cabins=3.549999952316284, Passenger_density=42.63999938964844, Crew=3.549999952316284)"
            ]
          },
          "metadata": {},
          "execution_count": 37
        }
      ]
    },
    {
      "cell_type": "markdown",
      "source": [
        "Total de Registros"
      ],
      "metadata": {
        "id": "qcm-Bf3GVk7_"
      }
    },
    {
      "cell_type": "code",
      "source": [
        "dataset.count()"
      ],
      "metadata": {
        "colab": {
          "base_uri": "https://localhost:8080/"
        },
        "id": "xEaUAEZxVocP",
        "outputId": "ab766c3f-e62a-4b5c-84d0-be10b1ed1bb9"
      },
      "execution_count": 38,
      "outputs": [
        {
          "output_type": "execute_result",
          "data": {
            "text/plain": [
              "158"
            ]
          },
          "metadata": {},
          "execution_count": 38
        }
      ]
    },
    {
      "cell_type": "markdown",
      "source": [
        "Criar Tabela SQL Temporária"
      ],
      "metadata": {
        "id": "76qfyy-0VtVC"
      }
    },
    {
      "cell_type": "code",
      "source": [
        "dataset.createOrReplaceTempView(\"tabela_temporaria\")"
      ],
      "metadata": {
        "id": "uJ6ny8FOVw7n"
      },
      "execution_count": 39,
      "outputs": []
    },
    {
      "cell_type": "markdown",
      "source": [
        "Imprimir as Tabelas do Catálogo"
      ],
      "metadata": {
        "id": "2N3FVI5QWHa2"
      }
    },
    {
      "cell_type": "code",
      "source": [
        "print(spark.catalog.listTables())"
      ],
      "metadata": {
        "colab": {
          "base_uri": "https://localhost:8080/"
        },
        "id": "vg4C7I4QWLFu",
        "outputId": "ca9b5a45-b6af-496a-8fe1-65bd54722d4e"
      },
      "execution_count": 40,
      "outputs": [
        {
          "output_type": "stream",
          "name": "stdout",
          "text": [
            "[Table(name='tabela_temporaria', database=None, description=None, tableType='TEMPORARY', isTemporary=True)]\n"
          ]
        }
      ]
    },
    {
      "cell_type": "markdown",
      "source": [
        "Criar consultas SQL"
      ],
      "metadata": {
        "id": "ieteMKYqWS63"
      }
    },
    {
      "cell_type": "code",
      "source": [
        "query = \"FROM tabela_temporaria SELECT Ship_name, Age LIMIT 10\""
      ],
      "metadata": {
        "id": "LlNE1KgdWVkY"
      },
      "execution_count": 41,
      "outputs": []
    },
    {
      "cell_type": "markdown",
      "source": [
        "Executar a Query"
      ],
      "metadata": {
        "id": "nY6fMBBmXFPM"
      }
    },
    {
      "cell_type": "code",
      "source": [
        "saida = spark.sql(query)"
      ],
      "metadata": {
        "id": "SSWlyWQ6XHXt"
      },
      "execution_count": 42,
      "outputs": []
    },
    {
      "cell_type": "markdown",
      "source": [
        "Exibir o resultado da Query"
      ],
      "metadata": {
        "id": "fg1Ds01ufjD2"
      }
    },
    {
      "cell_type": "code",
      "source": [
        "saida.show()"
      ],
      "metadata": {
        "colab": {
          "base_uri": "https://localhost:8080/"
        },
        "id": "wb48P7x3flp1",
        "outputId": "2ff51d1b-908c-4ec0-8fa3-8791c578c3fc"
      },
      "execution_count": 43,
      "outputs": [
        {
          "output_type": "stream",
          "name": "stdout",
          "text": [
            "+-----------+---+\n",
            "|  Ship_name|Age|\n",
            "+-----------+---+\n",
            "|    Journey|  6|\n",
            "|      Quest|  6|\n",
            "|Celebration| 26|\n",
            "|   Conquest| 11|\n",
            "|    Destiny| 17|\n",
            "|    Ecstasy| 22|\n",
            "|    Elation| 15|\n",
            "|    Fantasy| 23|\n",
            "|Fascination| 19|\n",
            "|    Freedom|  6|\n",
            "+-----------+---+\n",
            "\n"
          ]
        }
      ]
    },
    {
      "cell_type": "markdown",
      "source": [
        "Parar o Spark"
      ],
      "metadata": {
        "id": "XvbF-NXSfsMo"
      }
    },
    {
      "cell_type": "code",
      "source": [
        "spark.stop()"
      ],
      "metadata": {
        "id": "OFj1CM0efuR_"
      },
      "execution_count": 44,
      "outputs": []
    }
  ]
}